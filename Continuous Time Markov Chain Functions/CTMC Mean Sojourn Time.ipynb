{
 "cells": [
  {
   "cell_type": "code",
   "execution_count": 2,
   "id": "915d7ef5-569b-4383-9659-c9dd1d7c7d78",
   "metadata": {},
   "outputs": [
    {
     "name": "stdout",
     "output_type": "stream",
     "text": [
      "Mean Sojourn Time for state 1 : 0.3333333333333333\n",
      "Mean Sojourn Time for state 2 : 0.2857142857142857\n",
      "Mean Sojourn Time for state 3 : 1.0\n"
     ]
    }
   ],
   "source": [
    "import numpy as np\n",
    "\n",
    "def mean_sojourn_time(Q):\n",
    "    mean_times = []\n",
    "    n_states = Q.shape[0]\n",
    "    \n",
    "    for state in range(n_states):\n",
    "        mean_time = 1 / np.sum(Q[state, Q[state] > 0])\n",
    "        mean_times.append(mean_time)\n",
    "    \n",
    "    return mean_times\n",
    "\n",
    "# Example usage:\n",
    "Q = np.array([[-3, 1, 2],\n",
    "             [3, -3.5, 0.5],\n",
    "             [0, 1, -1]])  # Example infinitesimal generator matrix\n",
    "\n",
    "mean_times = mean_sojourn_time(Q)\n",
    "for state, mean_time in enumerate(mean_times):\n",
    "    print(\"Mean Sojourn Time for state\", state + 1, \":\", mean_time)\n"
   ]
  },
  {
   "cell_type": "code",
   "execution_count": 1,
   "id": "28fadacb-8437-4fec-b4ab-1944ccfc901d",
   "metadata": {},
   "outputs": [
    {
     "name": "stdout",
     "output_type": "stream",
     "text": [
      "Mean Sojourn Time for state 1 : 1.0\n",
      "Mean Sojourn Time for state 2 : 0.5\n",
      "Mean Sojourn Time for state 3 : 0.3333333333333333\n",
      "Mean Sojourn Time for state 4 : 0.25\n",
      "Mean Sojourn Time for state 5 : 0.2\n",
      "Mean Sojourn Time for state 6 : 0.16666666666666666\n",
      "Mean Sojourn Time for state 7 : 0.14285714285714285\n",
      "Mean Sojourn Time for state 8 : 0.125\n"
     ]
    }
   ],
   "source": [
    "import numpy as np\n",
    "\n",
    "h = 1\n",
    "\n",
    "def mean_sojourn_time(Q):\n",
    "    mean_times = []\n",
    "    n_states = Q.shape[0]\n",
    "    \n",
    "    for state in range(n_states):\n",
    "        mean_time = 1 / np.sum(Q[state, Q[state] > 0])\n",
    "        mean_times.append(mean_time)\n",
    "    \n",
    "    return mean_times\n",
    "\n",
    "Q = np.array([[-h, h, 0, 0, 0, 0, 0, 0],\n",
    "              [0, -2*h, 2*h, 0, 0, 0, 0, 0],\n",
    "              [0, 0, -3*h, 3*h, 0, 0, 0, 0],\n",
    "              [0, 0, 0, -4*h, 4*h, 0, 0, 0],\n",
    "              [0, 0, 0, 0, -5*h, 5*h, 0, 0],\n",
    "              [0, 0, 0, 0, 0, -6*h, 6*h, 0],\n",
    "              [0, 0, 0, 0, 0, 0, -7*h, 7*h],\n",
    "              [8*h, 0, 0, 0, 0, 0, 0, -8*h]])\n",
    "\n",
    "mean_times = mean_sojourn_time(Q)\n",
    "for state, mean_time in enumerate(mean_times):\n",
    "    print(\"Mean Sojourn Time for state\", state + 1, \":\", mean_time)\n"
   ]
  },
  {
   "cell_type": "code",
   "execution_count": null,
   "id": "d78b6cb1-4784-49d4-b88d-84d2cdb3ef40",
   "metadata": {},
   "outputs": [],
   "source": []
  }
 ],
 "metadata": {
  "kernelspec": {
   "display_name": "Python 3 (ipykernel)",
   "language": "python",
   "name": "python3"
  },
  "language_info": {
   "codemirror_mode": {
    "name": "ipython",
    "version": 3
   },
   "file_extension": ".py",
   "mimetype": "text/x-python",
   "name": "python",
   "nbconvert_exporter": "python",
   "pygments_lexer": "ipython3",
   "version": "3.11.5"
  }
 },
 "nbformat": 4,
 "nbformat_minor": 5
}
