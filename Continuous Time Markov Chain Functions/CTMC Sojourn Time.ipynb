{
 "cells": [
  {
   "cell_type": "code",
   "execution_count": 7,
   "id": "86f5b3c7-b308-4176-9733-0c8e37fcab4f",
   "metadata": {},
   "outputs": [
    {
     "name": "stdout",
     "output_type": "stream",
     "text": [
      "Sojourn Time for state 1 : 3.0 * e^(- 3.0 * t)\n",
      "Sojourn Time for state 2 : 3.5 * e^(- 3.5 * t)\n",
      "Sojourn Time for state 3 : 1.0 * e^(- 1.0 * t)\n"
     ]
    }
   ],
   "source": [
    "import numpy as np\n",
    "\n",
    "def sojourn_times(Q):\n",
    "    num_states = Q.shape[0]\n",
    "    sojourn_times = []\n",
    "    for state in range(num_states):\n",
    "        sojourn_time = np.sum(Q[state, Q[state] > 0])\n",
    "        sojourn_times.append(sojourn_time)\n",
    "    return sojourn_times\n",
    "\n",
    "Q = np.array([[-3, 1, 2],\n",
    "              [3, -3.5, 0.5],\n",
    "              [0, 1, -1]])\n",
    "\n",
    "all_sojourn_times = sojourn_times(Q)\n",
    "for state, sojourn_time in enumerate(all_sojourn_times):\n",
    "    print(\"Sojourn Time for state\", state + 1, \":\", sojourn_time,\"* e^(-\",sojourn_time,\"* t)\")"
   ]
  },
  {
   "cell_type": "code",
   "execution_count": null,
   "id": "ac238339-f033-418c-a117-0d851cef27bc",
   "metadata": {},
   "outputs": [],
   "source": []
  }
 ],
 "metadata": {
  "kernelspec": {
   "display_name": "Python 3 (ipykernel)",
   "language": "python",
   "name": "python3"
  },
  "language_info": {
   "codemirror_mode": {
    "name": "ipython",
    "version": 3
   },
   "file_extension": ".py",
   "mimetype": "text/x-python",
   "name": "python",
   "nbconvert_exporter": "python",
   "pygments_lexer": "ipython3",
   "version": "3.11.5"
  }
 },
 "nbformat": 4,
 "nbformat_minor": 5
}
