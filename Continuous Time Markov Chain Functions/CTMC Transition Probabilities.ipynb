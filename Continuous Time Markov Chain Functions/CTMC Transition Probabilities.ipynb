{
 "cells": [
  {
   "cell_type": "markdown",
   "id": "5b8d178b-cd39-4264-8e67-d0022325e4e7",
   "metadata": {},
   "source": [
    "# CTMC Transition Probabilities"
   ]
  },
  {
   "cell_type": "code",
   "execution_count": 74,
   "id": "6c642a31-984e-4738-8421-4dc5b412371d",
   "metadata": {},
   "outputs": [
    {
     "name": "stdout",
     "output_type": "stream",
     "text": [
      "Transition probability from state 1 to state 2 at time t=4: 0.491\n"
     ]
    }
   ],
   "source": [
    "import numpy as np\n",
    "from scipy.linalg import expm\n",
    "\n",
    "def transition_probability(infinitesimal_generator, initial_state, destination_state, t):\n",
    "    transition_matrix = expm(infinitesimal_generator * t)\n",
    "    probability = transition_matrix[initial_state, destination_state]\n",
    "    print(f\"Transition probability from state {initial_state+1} to state {destination_state+1} at time t={ t}: {probability:.3f}\")\n",
    "\n",
    "infinitesimal_generator = np.array([[-0.5, 0.5],\n",
    "                                    [0.5, -0.5]])\n",
    "\n",
    "# Initial state and destination state\n",
    "initial_state = 1  \n",
    "destination_state = 2 \n",
    "\n",
    "# Time parameter\n",
    "t = 4\n",
    "\n",
    "# Calculate and print transition probability from initial state to destination state at time t\n",
    "transition_probability(infinitesimal_generator, initial_state-1, destination_state-1, t)\n"
   ]
  },
  {
   "cell_type": "code",
   "execution_count": 75,
   "id": "9d28e24a-0cd2-453e-b18d-51a6a28496cf",
   "metadata": {},
   "outputs": [
    {
     "name": "stdout",
     "output_type": "stream",
     "text": [
      "Transition probability from state 0 to state 5 at time t=8: 0.900\n"
     ]
    }
   ],
   "source": [
    "import numpy as np\n",
    "from scipy.linalg import expm\n",
    "\n",
    "def transition_probability(infinitesimal_generator, initial_state, destination_state, t):\n",
    "    transition_matrix = expm(infinitesimal_generator * t)\n",
    "    probability = transition_matrix[initial_state, destination_state]\n",
    "    print(f\"Transition probability from state {initial_state} to state {destination_state} at time t={t}: {probability:.3f}\")\n",
    "\n",
    "infinitesimal_generator = np.array([[-1,  1,  0,  0,  0,  0],\n",
    "                                    [ 0, -1,  1,  0,  0,  0],\n",
    "                                    [ 0,  0, -1,  1,  0,  0],\n",
    "                                    [ 0,  0,  0, -1,  1,  0],\n",
    "                                    [ 0,  0,  0,  0, -1,  1],\n",
    "                                    [ 0,  0,  0,  0,  0, 0]])\n",
    "\n",
    "\n",
    "# Initial state and destination state\n",
    "initial_state = 0 \n",
    "destination_state = 5\n",
    "\n",
    "# Time parameter\n",
    "t = 8\n",
    "\n",
    "# Calculate and print transition probability from initial state to destination state at time t\n",
    "transition_probability(infinitesimal_generator, initial_state, destination_state, t)\n"
   ]
  },
  {
   "cell_type": "code",
   "execution_count": 4,
   "id": "3d31bf84-c256-42b4-bfba-4ae2d053d7e8",
   "metadata": {},
   "outputs": [
    {
     "name": "stdout",
     "output_type": "stream",
     "text": [
      "Transition probability from state 1 to state 1 at time t=2000: 0.077\n"
     ]
    }
   ],
   "source": [
    "import numpy as np\n",
    "from scipy.linalg import expm\n",
    "\n",
    "def transition_probability(infinitesimal_generator, initial_state, destination_state, t):\n",
    "    transition_matrix = expm(infinitesimal_generator * t)\n",
    "    probability = transition_matrix[initial_state, destination_state]\n",
    "    print(f\"Transition probability from state {initial_state+1} to state {destination_state+1} at time t={t}: {probability:.3f}\")\n",
    "\n",
    "h = 1\n",
    "u = 2\n",
    "infinitesimal_generator = np.array([[-u,  0,  u,  0,  0],\n",
    "                                    [ 0, -h,  0,  h,  0],\n",
    "                                    [ h,  0, -(h+u),  0,  u],\n",
    "                                    [ 0,  u,  0, -2*u,  u],\n",
    "                                    [ 0,  0,  h,  h, -2*h]])\n",
    "\n",
    "\n",
    "# Initial state and destination state\n",
    "initial_state =  1\n",
    "destination_state = 1\n",
    "\n",
    "# Time parameter\n",
    "t = 2000\n",
    "\n",
    "# Calculate and print transition probability from initial state to destination state at time t\n",
    "transition_probability(infinitesimal_generator, initial_state-1, destination_state-1, t)\n"
   ]
  },
  {
   "cell_type": "code",
   "execution_count": 4,
   "id": "e0f545b3-fa8b-4718-b97b-585ea4d0e54b",
   "metadata": {},
   "outputs": [
    {
     "name": "stdout",
     "output_type": "stream",
     "text": [
      "Transition probability from state 1 to state 1 at time t=2000: 0.077\n"
     ]
    }
   ],
   "source": [
    "import numpy as np\n",
    "from scipy.linalg import expm\n",
    "\n",
    "def transition_probability(infinitesimal_generator, initial_state, destination_state, t):\n",
    "    transition_matrix = expm(infinitesimal_generator * t)\n",
    "    probability = transition_matrix[initial_state, destination_state]\n",
    "    print(f\"Transition probability from state {initial_state+1} to state {destination_state+1} at time t={t}: {probability:.3f}\")\n",
    "\n",
    "infinitesimal_generator = np.array([[-5,  2,  3],\n",
    "                                    [ 1, -3,  2],\n",
    "                                    [ 0,  1, -1]])\n",
    "\n",
    "\n",
    "# Initial state and destination state\n",
    "initial_state =  1\n",
    "destination_state = 1\n",
    "\n",
    "# Time parameter\n",
    "t = 2000\n",
    "\n",
    "# Calculate and print transition probability from initial state to destination state at time t\n",
    "transition_probability(infinitesimal_generator, initial_state-1, destination_state-1, t)\n"
   ]
  },
  {
   "cell_type": "code",
   "execution_count": null,
   "id": "54f846c1-3f22-4de7-aa63-5ed6acf10192",
   "metadata": {},
   "outputs": [],
   "source": []
  }
 ],
 "metadata": {
  "kernelspec": {
   "display_name": "Python 3 (ipykernel)",
   "language": "python",
   "name": "python3"
  },
  "language_info": {
   "codemirror_mode": {
    "name": "ipython",
    "version": 3
   },
   "file_extension": ".py",
   "mimetype": "text/x-python",
   "name": "python",
   "nbconvert_exporter": "python",
   "pygments_lexer": "ipython3",
   "version": "3.11.5"
  }
 },
 "nbformat": 4,
 "nbformat_minor": 5
}
