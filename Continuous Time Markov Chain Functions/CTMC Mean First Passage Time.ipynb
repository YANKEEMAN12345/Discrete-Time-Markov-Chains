{
 "cells": [
  {
   "cell_type": "markdown",
   "id": "552fc8ff-4c06-431b-be06-fde34a3e3c6a",
   "metadata": {},
   "source": [
    "# CTMC Mean First Passage Time Standalone Function"
   ]
  },
  {
   "cell_type": "code",
   "execution_count": 1,
   "id": "d6245aa9-2dcb-4a00-b25c-d22fa98a6c55",
   "metadata": {},
   "outputs": [
    {
     "name": "stdout",
     "output_type": "stream",
     "text": [
      "[[-4  2  1]\n",
      " [ 1 -4  1]\n",
      " [ 1  2 -4]]\n",
      "Mean First Passage Time from state 1 to state 4: 0.75\n",
      "[0.75  0.625 0.75 ]\n"
     ]
    }
   ],
   "source": [
    "import numpy as np\n",
    "\n",
    "def CTMC_MFPT(infinitesimal_generator, initial_state, destination_state):\n",
    "    # Remove the destination state row and column from the infinitesimal generator to create A\n",
    "    A = np.delete(np.delete(infinitesimal_generator, destination_state, axis=0), destination_state, axis=1)\n",
    "    print(A)\n",
    "    \n",
    "    # Create b as a vector of -1's with the same length as A\n",
    "    b = -np.ones(len(A))\n",
    "\n",
    "    # Solve the system of linear equations\n",
    "    X = np.linalg.solve(A, b)\n",
    "    \n",
    "    # If initial state is greater than destination state, reverse the order of X\n",
    "    if initial_state > destination_state:\n",
    "        X = np.roll(X, destination_state)\n",
    "        \n",
    "    return X\n",
    "\n",
    "# infinitesimal_generator = np.array([[-4, 4, 0],\n",
    "#                                     [3, -5, 2],\n",
    "#                                     [0, 1, -1]])\n",
    "\n",
    "# infinitesimal_generator = np.array([[-3, 1, 2, 0],\n",
    "#                                     [3, -4, 0.5, 0.5],\n",
    "#                                     [0, 1, -1.5, 0.5],\n",
    "#                                     [1, 0, 0, -1]])\n",
    "\n",
    "infinitesimal_generator = np.array([[-4, 2, 1, 1],\n",
    "                                    [1, -4, 1, 2],\n",
    "                                    [1, 2, -4, 1],\n",
    "                                    [3, 2, 1, -6]])\n",
    "\n",
    "# infinitesimal_generator = np.array([[-8, 6, 2],\n",
    "#                                     [2, -6, 4],\n",
    "#                                     [1, 3, -4]])\n",
    "\n",
    "# infinitesimal_generator = np.array([[-5/6, 1/3, 1/2, 0],\n",
    "#                                     [0, -1/3, 0, 1/3],\n",
    "#                                     [0, 0, -1/2, 1/2],\n",
    "#                                     [1/6, 0, 0, -1/6]])\n",
    "\n",
    "# infinitesimal_generator = np.array([[-3, 1, 2],\n",
    "#                                    [3, -3.5, 0.5],\n",
    "#                                    [0, 1, -1]])\n",
    "\n",
    "\n",
    "initial_state = 1\n",
    "destination_state = 4\n",
    "\n",
    "if initial_state > destination_state:\n",
    "    MFPT = CTMC_MFPT(infinitesimal_generator, initial_state, destination_state-1)\n",
    "    print(\"Mean First Passage Time from state {} to state {}: {}\".format(initial_state, destination_state, MFPT[initial_state-2]))\n",
    "    print(MFPT)\n",
    "else:\n",
    "    MFPT = CTMC_MFPT(infinitesimal_generator, initial_state, destination_state-1)\n",
    "    print(\"Mean First Passage Time from state {} to state {}: {}\".format(initial_state, destination_state, MFPT[initial_state-1]))\n",
    "    print(MFPT)\n"
   ]
  },
  {
   "cell_type": "code",
   "execution_count": null,
   "id": "a525fceb-12c3-46ee-ba6e-d87efafebe30",
   "metadata": {},
   "outputs": [],
   "source": []
  }
 ],
 "metadata": {
  "kernelspec": {
   "display_name": "Python 3 (ipykernel)",
   "language": "python",
   "name": "python3"
  },
  "language_info": {
   "codemirror_mode": {
    "name": "ipython",
    "version": 3
   },
   "file_extension": ".py",
   "mimetype": "text/x-python",
   "name": "python",
   "nbconvert_exporter": "python",
   "pygments_lexer": "ipython3",
   "version": "3.11.5"
  }
 },
 "nbformat": 4,
 "nbformat_minor": 5
}
