{
 "cells": [
  {
   "cell_type": "code",
   "execution_count": 1,
   "id": "f7744dc9-131a-401a-bf4d-8380b3470cd6",
   "metadata": {},
   "outputs": [
    {
     "name": "stdout",
     "output_type": "stream",
     "text": [
      "[0.4 0.6] \n",
      "\n",
      "Steady-state probability for state 1 : 0.400\n",
      "Steady-state probability for state 2 : 0.600\n"
     ]
    }
   ],
   "source": [
    "# Find the steady-state probabilities\n",
    "\n",
    "import numpy as np\n",
    "\n",
    "def steady_state(Q):\n",
    "    n = Q.shape[0]\n",
    "    eigenvalues, eigenvectors = np.linalg.eig(Q.T)\n",
    "    idx = np.argmin(np.abs(eigenvalues))\n",
    "    pi = np.real(eigenvectors[:, idx])\n",
    "    pi /= np.sum(pi)  # Normalize to obtain probabilities\n",
    "    return pi\n",
    "\n",
    "# Infinitesimal generator matrix Q\n",
    "# Q = np.array([[-4/3, 4/3, 0, 0, 0],\n",
    "#               [2, -3, 1, 0, 0],\n",
    "#               [0, 4, -14/3, 2/3, 0],\n",
    "#               [0, 0, 6, -19/3, 1/3],\n",
    "#               [0, 0, 0, 8, -8]])\n",
    "\n",
    "# Q = np.array([[-4, 4, 0],\n",
    "#               [3, -5, 2],\n",
    "#               [0, 1, -1]])\n",
    "\n",
    "Q = np.array([[-3, 3],\n",
    "              [2, -2]])\n",
    "\n",
    "# Calculate steady state\n",
    "pi = steady_state(Q)\n",
    "print(pi,\"\\n\")\n",
    "\n",
    "# Print out steady-state probability for each state\n",
    "for state, probability in enumerate(pi):\n",
    "    print(\"Steady-state probability for state\", state + 1, \":\", \"%.3f\" % probability)\n"
   ]
  },
  {
   "cell_type": "code",
   "execution_count": 12,
   "id": "239317eb-2f52-45b9-8219-f63df67a34d4",
   "metadata": {},
   "outputs": [
    {
     "name": "stdout",
     "output_type": "stream",
     "text": [
      "[8.33440514e-01 1.38906752e-01 2.31511254e-02 3.85852090e-03\n",
      " 6.43086817e-04] \n",
      "\n",
      "Steady-state probability for state 0 : 0.8334\n",
      "Steady-state probability for state 1 : 0.1389\n",
      "Steady-state probability for state 2 : 0.0232\n",
      "Steady-state probability for state 3 : 0.0039\n",
      "Steady-state probability for state 4 : 0.0006\n"
     ]
    }
   ],
   "source": [
    "import numpy as np\n",
    "\n",
    "def steady_state(Q):\n",
    "    n = Q.shape[0]\n",
    "    eigenvalues, eigenvectors = np.linalg.eig(Q.T)\n",
    "    idx = np.argmin(np.abs(eigenvalues))\n",
    "    pi = np.real(eigenvectors[:, idx])\n",
    "    pi /= np.sum(pi)  # Normalize to obtain probabilities\n",
    "    return pi\n",
    "\n",
    "\n",
    "Q = np.array([[-2, 2, 0, 0, 0],\n",
    "              [12, -14, 2, 0, 0],\n",
    "              [0, 12, -14, 2, 0],\n",
    "              [0, 0, 12, -14, 2],\n",
    "              [0, 0, 0, 12, -12]])\n",
    "\n",
    "# Calculate steady state\n",
    "pi = steady_state(Q)\n",
    "print(pi,\"\\n\")\n",
    "\n",
    "# Print out steady-state probability for each state\n",
    "for state, probability in enumerate(pi):\n",
    "    print(\"Steady-state probability for state\", state, \":\", \"%.4f\" % probability)\n"
   ]
  },
  {
   "cell_type": "code",
   "execution_count": null,
   "id": "ad2a1145-e810-47d1-b612-4560406c6302",
   "metadata": {},
   "outputs": [],
   "source": []
  }
 ],
 "metadata": {
  "kernelspec": {
   "display_name": "Python 3 (ipykernel)",
   "language": "python",
   "name": "python3"
  },
  "language_info": {
   "codemirror_mode": {
    "name": "ipython",
    "version": 3
   },
   "file_extension": ".py",
   "mimetype": "text/x-python",
   "name": "python",
   "nbconvert_exporter": "python",
   "pygments_lexer": "ipython3",
   "version": "3.11.5"
  }
 },
 "nbformat": 4,
 "nbformat_minor": 5
}
