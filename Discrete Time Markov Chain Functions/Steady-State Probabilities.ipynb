{
 "cells": [
  {
   "cell_type": "markdown",
   "id": "20d49252-75f3-406f-9281-e41f85ca7812",
   "metadata": {},
   "source": [
    "# Steady State Probabilites\n",
    "If each column has the same value, it's in a steady state"
   ]
  },
  {
   "cell_type": "code",
   "execution_count": 3,
   "id": "78053771-372f-451c-9215-0aa08a874712",
   "metadata": {},
   "outputs": [
    {
     "name": "stdout",
     "output_type": "stream",
     "text": [
      "[[0.17830961 0.29119421 0.23572881 0.29476737]\n",
      " [0.17830961 0.29119421 0.23572881 0.29476737]\n",
      " [0.17830961 0.29119421 0.23572881 0.29476737]\n",
      " [0.17830961 0.29119421 0.23572881 0.29476737]]\n",
      "\n",
      "\n",
      "Steady state probabilities:\n",
      "\n",
      "[0.17830961 0.29119421 0.23572881 0.29476737]\n"
     ]
    }
   ],
   "source": [
    "import numpy as np\n",
    "from numpy.linalg import matrix_power\n",
    "from numpy.linalg import linalg, inv\n",
    "\n",
    "P = np.array([ [0.033, 0.267, 0.6, 0.1], \n",
    "               [0.329, 0.013, 0.132, 0.526],\n",
    "               [0.2, 0.267, 0.133, 0.4],\n",
    "               [0.1, 0.6, 0.2, 0.1]])\n",
    "\n",
    "n = 1000 # raise the matrix to a LARGE power n for steady-state\n",
    "Q = matrix_power(P,n)\n",
    "SS = Q[0]\n",
    "print(f\"{Q}\")\n",
    "print(\"\\n\")\n",
    "\n",
    "print(f\"Steady state probabilities:\\n\\n{SS}\") # This will just print one row"
   ]
  },
  {
   "cell_type": "code",
   "execution_count": null,
   "id": "97c632d8-bb00-4a05-9df0-98101472a9c2",
   "metadata": {},
   "outputs": [],
   "source": []
  }
 ],
 "metadata": {
  "kernelspec": {
   "display_name": "Python 3 (ipykernel)",
   "language": "python",
   "name": "python3"
  },
  "language_info": {
   "codemirror_mode": {
    "name": "ipython",
    "version": 3
   },
   "file_extension": ".py",
   "mimetype": "text/x-python",
   "name": "python",
   "nbconvert_exporter": "python",
   "pygments_lexer": "ipython3",
   "version": "3.11.5"
  }
 },
 "nbformat": 4,
 "nbformat_minor": 5
}
