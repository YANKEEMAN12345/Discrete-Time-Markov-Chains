{
 "cells": [
  {
   "cell_type": "markdown",
   "id": "1232b163-465f-479b-8da4-fce286a63139",
   "metadata": {},
   "source": [
    "# Mean Sojourn Time\n",
    "Consecutive time spent in one specific state"
   ]
  },
  {
   "cell_type": "code",
   "execution_count": 3,
   "id": "ac07c21e-3ee8-4c03-beea-127da769b1ec",
   "metadata": {},
   "outputs": [
    {
     "name": "stdout",
     "output_type": "stream",
     "text": [
      "Mean sojourn time for Green: 5.000\n",
      " \n"
     ]
    }
   ],
   "source": [
    "import numpy as np\n",
    "import pandas as pd\n",
    "\n",
    "def mean_sojourn_time(P,state):\n",
    "    \"\"\"\n",
    "    Calculate the sojourn time in a given state.\n",
    "\n",
    "    Parameters:\n",
    "        P (pd.DataFrame): Transition probability matrix.\n",
    "        state (str): State for which sojourn time is calculated.\n",
    "\n",
    "    Returns:\n",
    "        float: Sojourn time in the specified state.\n",
    "    \"\"\"\n",
    "    return 1 / (1 - P.loc[state, state])\n",
    "\n",
    "# Example\n",
    "P = pd.DataFrame({'Green': [0.8, 0.2, 0.0, 0.0],\n",
    "                  'Yellow': [0.1, 0.8, 0.1, 0.0],\n",
    "                  'Orange': [0.1, 0.0, 0.7, 0.2],\n",
    "                  'Red': [0.1, 0.0, 0.0, 0.9]},\n",
    "                 index=['Green', 'Yellow', 'Orange', 'Red'])\n",
    "state = 'Green'  # State for which the mean sojourn time is calculated\n",
    "st = mean_sojourn_time(P, state)\n",
    "print(f\"Mean sojourn time for {state}: {st:.3f}\")\n",
    "print(\" \")"
   ]
  },
  {
   "cell_type": "code",
   "execution_count": null,
   "id": "af190f38-3e5a-49ee-8d66-fb431f3f0719",
   "metadata": {},
   "outputs": [],
   "source": []
  }
 ],
 "metadata": {
  "kernelspec": {
   "display_name": "Python 3 (ipykernel)",
   "language": "python",
   "name": "python3"
  },
  "language_info": {
   "codemirror_mode": {
    "name": "ipython",
    "version": 3
   },
   "file_extension": ".py",
   "mimetype": "text/x-python",
   "name": "python",
   "nbconvert_exporter": "python",
   "pygments_lexer": "ipython3",
   "version": "3.11.5"
  }
 },
 "nbformat": 4,
 "nbformat_minor": 5
}
