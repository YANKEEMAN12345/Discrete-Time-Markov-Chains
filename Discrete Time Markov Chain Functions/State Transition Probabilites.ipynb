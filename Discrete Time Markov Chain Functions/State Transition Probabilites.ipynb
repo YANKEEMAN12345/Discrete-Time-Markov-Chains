{
 "cells": [
  {
   "cell_type": "markdown",
   "id": "20d49252-75f3-406f-9281-e41f85ca7812",
   "metadata": {},
   "source": [
    "# State Transition Probabilites"
   ]
  },
  {
   "cell_type": "code",
   "execution_count": 6,
   "id": "78053771-372f-451c-9215-0aa08a874712",
   "metadata": {},
   "outputs": [
    {
     "name": "stdout",
     "output_type": "stream",
     "text": [
      "P(x2 | xo=[1 0 0]) = [0.8128 0.149  0.0382]\n"
     ]
    }
   ],
   "source": [
    "import numpy as np\n",
    "from numpy.linalg import matrix_power\n",
    "from numpy.linalg import linalg, inv\n",
    "\n",
    "P = np.array([ [.90,.08,.02], # state-transition matrix (row 1 is state 1, row 2 is state 2, row 3 is state 3)\n",
    "               [.03,.96,.01],\n",
    "               [.02,.01,.97]])\n",
    "# Example\n",
    "# P(x2 = 3 | x0 = 1) [Initial state is 1, find probability of going to state 3 at time 2]\n",
    "xo =np.array([1,0,0]) # defines the initial state\n",
    "n = 2 # raising the matrix to power n, time period 2\n",
    "Q = matrix_power(P,n)\n",
    "print(f'P(x{n} | xo={xo}) = {linalg.dot(xo,Q)}')"
   ]
  },
  {
   "cell_type": "code",
   "execution_count": null,
   "id": "97c632d8-bb00-4a05-9df0-98101472a9c2",
   "metadata": {},
   "outputs": [],
   "source": []
  }
 ],
 "metadata": {
  "kernelspec": {
   "display_name": "Python 3 (ipykernel)",
   "language": "python",
   "name": "python3"
  },
  "language_info": {
   "codemirror_mode": {
    "name": "ipython",
    "version": 3
   },
   "file_extension": ".py",
   "mimetype": "text/x-python",
   "name": "python",
   "nbconvert_exporter": "python",
   "pygments_lexer": "ipython3",
   "version": "3.11.5"
  }
 },
 "nbformat": 4,
 "nbformat_minor": 5
}
