{
 "cells": [
  {
   "cell_type": "markdown",
   "id": "a83b40e7-d626-4c5f-97d8-8c54952f7483",
   "metadata": {},
   "source": [
    "# Mean First Passage Time"
   ]
  },
  {
   "cell_type": "code",
   "execution_count": 4,
   "id": "80894df5-eb71-47ce-a7fc-9ff01df9d825",
   "metadata": {},
   "outputs": [
    {
     "name": "stdout",
     "output_type": "stream",
     "text": [
      "Mean First Passage Time from state Red to state White: 5.45\n"
     ]
    }
   ],
   "source": [
    "import numpy as np\n",
    "import pandas as pd\n",
    "from numpy.linalg import inv\n",
    "\n",
    "def mean_first_passage_time(P, i, j):\n",
    "    \"\"\"\n",
    "    Compute the mean first passage time from one state to another in a Markov chain.\n",
    "\n",
    "    Parameters:\n",
    "    - P: pandas DataFrame, transition matrix\n",
    "    - i: str, the starting state (from state)\n",
    "    - j: str, the ending state (to state)\n",
    "\n",
    "    Returns:\n",
    "    - mfpt: float, mean first passage time from 'i' to 'j'\n",
    "    \"\"\"\n",
    "    # Automatically adjust the size of the vector b\n",
    "    k = len(P) - 1  # Exclude the absorbing state\n",
    "\n",
    "    # Calculate matrix A (transition matrix without absorbing states)\n",
    "    A = P.loc[P.index != j, P.columns != j]\n",
    "\n",
    "    # Calculate the fundamental matrix N = (I - A)^(-1)\n",
    "    N = inv(np.identity(k) - A)\n",
    "\n",
    "    # Extract the column corresponding to the absorbing state\n",
    "    b = N[:, P.columns.get_loc(j) - 1][:, np.newaxis]\n",
    "\n",
    "    # Compute the mean first passage time (MFPT)\n",
    "    mfpt = b.sum()\n",
    "\n",
    "    return mfpt\n",
    "\n",
    "#Example:\n",
    "P = pd.DataFrame({'Red': [0.4, 0.1, 0.5],\n",
    "                  'White': [0.4, 0.2, 0.4],\n",
    "                  'Blue': [0.4, 0.3, 0.3]},\n",
    "                 index=['Red', 'White', 'Blue'])\n",
    "i = 'Red'  # from state\n",
    "j = 'White'  # to state\n",
    "mfpt = mean_first_passage_time(P, i, j) # Mean First Passage Time from state {i} to state {j}: {mfpt}\")\n",
    "print(f\"Mean First Passage Time from state {i} to state {j}: {mfpt:.2f}\")"
   ]
  },
  {
   "cell_type": "code",
   "execution_count": null,
   "id": "0d8615e9-5e38-42f5-8e4b-54c44c830f5b",
   "metadata": {},
   "outputs": [],
   "source": []
  }
 ],
 "metadata": {
  "kernelspec": {
   "display_name": "Python 3 (ipykernel)",
   "language": "python",
   "name": "python3"
  },
  "language_info": {
   "codemirror_mode": {
    "name": "ipython",
    "version": 3
   },
   "file_extension": ".py",
   "mimetype": "text/x-python",
   "name": "python",
   "nbconvert_exporter": "python",
   "pygments_lexer": "ipython3",
   "version": "3.11.5"
  }
 },
 "nbformat": 4,
 "nbformat_minor": 5
}
