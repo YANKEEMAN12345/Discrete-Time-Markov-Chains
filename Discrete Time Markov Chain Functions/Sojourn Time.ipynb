{
 "cells": [
  {
   "cell_type": "markdown",
   "id": "844dda97-39f1-4d86-ac7a-ac331f164e33",
   "metadata": {},
   "source": [
    "# Sojourn Time\n",
    "Time spent until Leaving"
   ]
  },
  {
   "cell_type": "code",
   "execution_count": 8,
   "id": "515abb0a-b4b4-4bd4-ba9f-9b346dab98e3",
   "metadata": {},
   "outputs": [
    {
     "name": "stdout",
     "output_type": "stream",
     "text": [
      "Sojourn time of state Bad: 2.000\n"
     ]
    }
   ],
   "source": [
    "import numpy as np\n",
    "import pandas as pd\n",
    "\n",
    "def sojourn_time(P, state):\n",
    "    \"\"\"\n",
    "    Calculate the sojourn time in a given state.\n",
    "\n",
    "    Parameters:\n",
    "        P (pd.DataFrame): Transition probability matrix.\n",
    "        state (str): State for which sojourn time is calculated.\n",
    "\n",
    "    Returns:\n",
    "        float: Sojourn time in the specified state.\n",
    "    \"\"\"\n",
    "    return 1 / P.loc[state, state]\n",
    "\n",
    "# Example\n",
    "P = pd.DataFrame({'Good': [0.5, 0.3, 0.2],\n",
    "                  'Medium': [0.2, 0.6, 0.2],\n",
    "                  'Bad': [0.3, 0.2, 0.5]},\n",
    "                 index=['Good', 'Medium', 'Bad'])\n",
    "state = 'Bad'  # State for which sojourn time is calculated\n",
    "st = sojourn_time(P, state)\n",
    "print(f\"Sojourn time of state {state}: {st:.3f}\")"
   ]
  },
  {
   "cell_type": "code",
   "execution_count": null,
   "id": "6272f4ad-cd0f-48af-b8e3-5e18868f068a",
   "metadata": {},
   "outputs": [],
   "source": []
  }
 ],
 "metadata": {
  "kernelspec": {
   "display_name": "Python 3 (ipykernel)",
   "language": "python",
   "name": "python3"
  },
  "language_info": {
   "codemirror_mode": {
    "name": "ipython",
    "version": 3
   },
   "file_extension": ".py",
   "mimetype": "text/x-python",
   "name": "python",
   "nbconvert_exporter": "python",
   "pygments_lexer": "ipython3",
   "version": "3.11.5"
  }
 },
 "nbformat": 4,
 "nbformat_minor": 5
}
