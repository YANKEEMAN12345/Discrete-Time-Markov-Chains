{
 "cells": [
  {
   "cell_type": "markdown",
   "id": "015eef7a-f1b1-4efe-ad68-2088b3d656a4",
   "metadata": {},
   "source": [
    "# First Passage Time Probabilities"
   ]
  },
  {
   "cell_type": "code",
   "execution_count": 2,
   "id": "6be89034-a0a9-4d27-bc3d-85611dd20dea",
   "metadata": {},
   "outputs": [
    {
     "name": "stdout",
     "output_type": "stream",
     "text": [
      "       f(GM,Ford)\n",
      "Steps            \n",
      "1        0.200000\n",
      "2        0.130000\n",
      "3        0.095000\n",
      "4        0.075400\n",
      "5        0.062870\n",
      "6        0.053833\n",
      "7        0.046721\n",
      "8        0.040819\n",
      "9        0.035778\n",
      "10       0.031408\n",
      " \n",
      "Total probabilities:\n",
      "f(GM,Ford)    0.77183\n",
      "dtype: float64\n"
     ]
    }
   ],
   "source": [
    "import numpy as np\n",
    "import pandas as pd\n",
    "\n",
    "def first_passage_probabilities(i, j, P, n):\n",
    "    # make sure states are labeled starting from 0\n",
    "    # i is the starting state\n",
    "    # j is the target state\n",
    "    # P is the transition matrix\n",
    "    # n is the number of steps to first passage\n",
    "    F = []   # vector of first passage time probabilities\n",
    "    PIJ = []   # vector of n-step transition probabilities from i to j\n",
    "    PJJ = []   # vector of n-step transition probabilities from j to j\n",
    "\n",
    "    # Convert state names to integer indices\n",
    "    i_index = P.index.get_loc(i)\n",
    "    j_index = P.index.get_loc(j)\n",
    "\n",
    "    # First, get n-step probabilities\n",
    "    for k in range(1, n+1):\n",
    "        Q = np.linalg.matrix_power(P, k)\n",
    "        Q = pd.DataFrame(Q)\n",
    "        PJJ.append(Q.iloc[j_index, j_index])   # P^(k)jj\n",
    "        PIJ.append(Q.iloc[i_index, j_index])   # P^(k)ij\n",
    "\n",
    "    PJJ = pd.DataFrame(PJJ)\n",
    "    PIJ = pd.DataFrame(PIJ)\n",
    "\n",
    "    # Now, compute first passage probabilities\n",
    "    for m in range(0, n):  # n is the number of steps in the path\n",
    "        if n == 0:\n",
    "            F.append(PIJ.iloc[0, 0])  # prob of going from i to j in one step\n",
    "        else:\n",
    "            summation = 0\n",
    "            for k in range(1, m+1):\n",
    "                summation += F[k-1] * PJJ.iloc[m-k, 0]  # there is only one column, column 0\n",
    "            temp = PIJ.iloc[m, 0] - summation\n",
    "            F.append(temp)\n",
    "\n",
    "    index = ['1']\n",
    "    for p in range(2, n+1):\n",
    "        s = str(p)\n",
    "        index.append(s)\n",
    "\n",
    "    F = pd.DataFrame(F, index=index)\n",
    "    F.rename(columns={0: f'f({i},{j})'}, inplace=True)\n",
    "\n",
    "    return F\n",
    "\n",
    "# Example\n",
    "P = pd.DataFrame({'GM': [0.5, 0.2, 0.2, 0.1],\n",
    "                  'Ford': [0.2, 0.4, 0.2, 0.2],\n",
    "                  'Chrysler': [0.1, 0.1, 0.7, 0.1],\n",
    "                  'Foreign': [0.1, 0.1, 0.2, 0.6]},\n",
    "                 index=['GM', 'Ford', 'Chrysler', 'Foreign'])\n",
    "P = P.T\n",
    "i = 'GM'   # initial state\n",
    "j = 'Ford'   # destination state\n",
    "n = 10   # path length for first passage computation\n",
    "F = first_passage_probabilities(i, j, P, n)\n",
    "\n",
    "# Displaying output as a DataFrame\n",
    "output_df = pd.DataFrame(F, columns=[f'f({i},{j})'])\n",
    "output_df.index.name = 'Steps'\n",
    "print(output_df)\n",
    "print(\" \")\n",
    "print(\"Total probabilities:\")\n",
    "print(F.sum(axis=0))\n"
   ]
  },
  {
   "cell_type": "code",
   "execution_count": null,
   "id": "422b68ba-4218-4597-85d1-621ca2bc6d38",
   "metadata": {},
   "outputs": [],
   "source": []
  }
 ],
 "metadata": {
  "kernelspec": {
   "display_name": "Python 3 (ipykernel)",
   "language": "python",
   "name": "python3"
  },
  "language_info": {
   "codemirror_mode": {
    "name": "ipython",
    "version": 3
   },
   "file_extension": ".py",
   "mimetype": "text/x-python",
   "name": "python",
   "nbconvert_exporter": "python",
   "pygments_lexer": "ipython3",
   "version": "3.11.5"
  }
 },
 "nbformat": 4,
 "nbformat_minor": 5
}
